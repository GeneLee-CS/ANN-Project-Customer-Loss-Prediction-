{
 "cells": [
  {
   "cell_type": "code",
   "execution_count": 1,
   "metadata": {},
   "outputs": [
    {
     "name": "stderr",
     "output_type": "stream",
     "text": [
      "Using TensorFlow backend.\n"
     ]
    }
   ],
   "source": [
    "import numpy as np\n",
    "import matplotlib.pyplot as plt\n",
    "import pandas as pd\n",
    "import tensorflow\n",
    "import keras\n",
    "\n",
    "from sklearn.preprocessing import LabelEncoder, OneHotEncoder\n",
    "from sklearn.model_selection import train_test_split\n",
    "from sklearn.preprocessing import StandardScaler\n",
    "from keras.models import Sequential\n",
    "from keras.layers import Dense"
   ]
  },
  {
   "cell_type": "code",
   "execution_count": 2,
   "metadata": {},
   "outputs": [],
   "source": [
    "# Importing the Data\n",
    "dataset = pd.read_csv(r'C:\\Users\\dglee\\Desktop\\Projects\\ANN\\Churn_Modelling.csv')"
   ]
  },
  {
   "cell_type": "code",
   "execution_count": 3,
   "metadata": {},
   "outputs": [
    {
     "data": {
      "text/html": [
       "<div>\n",
       "<style scoped>\n",
       "    .dataframe tbody tr th:only-of-type {\n",
       "        vertical-align: middle;\n",
       "    }\n",
       "\n",
       "    .dataframe tbody tr th {\n",
       "        vertical-align: top;\n",
       "    }\n",
       "\n",
       "    .dataframe thead th {\n",
       "        text-align: right;\n",
       "    }\n",
       "</style>\n",
       "<table border=\"1\" class=\"dataframe\">\n",
       "  <thead>\n",
       "    <tr style=\"text-align: right;\">\n",
       "      <th></th>\n",
       "      <th>RowNumber</th>\n",
       "      <th>CustomerId</th>\n",
       "      <th>Surname</th>\n",
       "      <th>CreditScore</th>\n",
       "      <th>Geography</th>\n",
       "      <th>Gender</th>\n",
       "      <th>Age</th>\n",
       "      <th>Tenure</th>\n",
       "      <th>Balance</th>\n",
       "      <th>NumOfProducts</th>\n",
       "      <th>HasCrCard</th>\n",
       "      <th>IsActiveMember</th>\n",
       "      <th>EstimatedSalary</th>\n",
       "      <th>Exited</th>\n",
       "    </tr>\n",
       "  </thead>\n",
       "  <tbody>\n",
       "    <tr>\n",
       "      <td>0</td>\n",
       "      <td>1</td>\n",
       "      <td>15634602</td>\n",
       "      <td>Hargrave</td>\n",
       "      <td>619</td>\n",
       "      <td>France</td>\n",
       "      <td>Female</td>\n",
       "      <td>42</td>\n",
       "      <td>2</td>\n",
       "      <td>0.00</td>\n",
       "      <td>1</td>\n",
       "      <td>1</td>\n",
       "      <td>1</td>\n",
       "      <td>101348.88</td>\n",
       "      <td>1</td>\n",
       "    </tr>\n",
       "    <tr>\n",
       "      <td>1</td>\n",
       "      <td>2</td>\n",
       "      <td>15647311</td>\n",
       "      <td>Hill</td>\n",
       "      <td>608</td>\n",
       "      <td>Spain</td>\n",
       "      <td>Female</td>\n",
       "      <td>41</td>\n",
       "      <td>1</td>\n",
       "      <td>83807.86</td>\n",
       "      <td>1</td>\n",
       "      <td>0</td>\n",
       "      <td>1</td>\n",
       "      <td>112542.58</td>\n",
       "      <td>0</td>\n",
       "    </tr>\n",
       "    <tr>\n",
       "      <td>2</td>\n",
       "      <td>3</td>\n",
       "      <td>15619304</td>\n",
       "      <td>Onio</td>\n",
       "      <td>502</td>\n",
       "      <td>France</td>\n",
       "      <td>Female</td>\n",
       "      <td>42</td>\n",
       "      <td>8</td>\n",
       "      <td>159660.80</td>\n",
       "      <td>3</td>\n",
       "      <td>1</td>\n",
       "      <td>0</td>\n",
       "      <td>113931.57</td>\n",
       "      <td>1</td>\n",
       "    </tr>\n",
       "    <tr>\n",
       "      <td>3</td>\n",
       "      <td>4</td>\n",
       "      <td>15701354</td>\n",
       "      <td>Boni</td>\n",
       "      <td>699</td>\n",
       "      <td>France</td>\n",
       "      <td>Female</td>\n",
       "      <td>39</td>\n",
       "      <td>1</td>\n",
       "      <td>0.00</td>\n",
       "      <td>2</td>\n",
       "      <td>0</td>\n",
       "      <td>0</td>\n",
       "      <td>93826.63</td>\n",
       "      <td>0</td>\n",
       "    </tr>\n",
       "    <tr>\n",
       "      <td>4</td>\n",
       "      <td>5</td>\n",
       "      <td>15737888</td>\n",
       "      <td>Mitchell</td>\n",
       "      <td>850</td>\n",
       "      <td>Spain</td>\n",
       "      <td>Female</td>\n",
       "      <td>43</td>\n",
       "      <td>2</td>\n",
       "      <td>125510.82</td>\n",
       "      <td>1</td>\n",
       "      <td>1</td>\n",
       "      <td>1</td>\n",
       "      <td>79084.10</td>\n",
       "      <td>0</td>\n",
       "    </tr>\n",
       "  </tbody>\n",
       "</table>\n",
       "</div>"
      ],
      "text/plain": [
       "   RowNumber  CustomerId   Surname  CreditScore Geography  Gender  Age  \\\n",
       "0          1    15634602  Hargrave          619    France  Female   42   \n",
       "1          2    15647311      Hill          608     Spain  Female   41   \n",
       "2          3    15619304      Onio          502    France  Female   42   \n",
       "3          4    15701354      Boni          699    France  Female   39   \n",
       "4          5    15737888  Mitchell          850     Spain  Female   43   \n",
       "\n",
       "   Tenure    Balance  NumOfProducts  HasCrCard  IsActiveMember  \\\n",
       "0       2       0.00              1          1               1   \n",
       "1       1   83807.86              1          0               1   \n",
       "2       8  159660.80              3          1               0   \n",
       "3       1       0.00              2          0               0   \n",
       "4       2  125510.82              1          1               1   \n",
       "\n",
       "   EstimatedSalary  Exited  \n",
       "0        101348.88       1  \n",
       "1        112542.58       0  \n",
       "2        113931.57       1  \n",
       "3         93826.63       0  \n",
       "4         79084.10       0  "
      ]
     },
     "execution_count": 3,
     "metadata": {},
     "output_type": "execute_result"
    }
   ],
   "source": [
    "dataset.head()"
   ]
  },
  {
   "cell_type": "code",
   "execution_count": 4,
   "metadata": {},
   "outputs": [
    {
     "data": {
      "text/plain": [
       "(10000, 14)"
      ]
     },
     "execution_count": 4,
     "metadata": {},
     "output_type": "execute_result"
    }
   ],
   "source": [
    "dataset.shape"
   ]
  },
  {
   "cell_type": "code",
   "execution_count": 5,
   "metadata": {},
   "outputs": [],
   "source": [
    "def missing_values(df):\n",
    "    mv = pd.DataFrame(df.isnull().sum()).reset_index()\n",
    "    mv.columns = ['Column Name', 'Missing Values']\n",
    "    mv['Total Rows'] = df.shape[0]\n",
    "    mv['Missing Percentage'] = round((mv['Missing Values']/mv['Total Rows']) * 100, 2)\n",
    "    return mv"
   ]
  },
  {
   "cell_type": "code",
   "execution_count": 6,
   "metadata": {},
   "outputs": [
    {
     "data": {
      "text/html": [
       "<div>\n",
       "<style scoped>\n",
       "    .dataframe tbody tr th:only-of-type {\n",
       "        vertical-align: middle;\n",
       "    }\n",
       "\n",
       "    .dataframe tbody tr th {\n",
       "        vertical-align: top;\n",
       "    }\n",
       "\n",
       "    .dataframe thead th {\n",
       "        text-align: right;\n",
       "    }\n",
       "</style>\n",
       "<table border=\"1\" class=\"dataframe\">\n",
       "  <thead>\n",
       "    <tr style=\"text-align: right;\">\n",
       "      <th></th>\n",
       "      <th>Column Name</th>\n",
       "      <th>Missing Values</th>\n",
       "      <th>Total Rows</th>\n",
       "      <th>Missing Percentage</th>\n",
       "    </tr>\n",
       "  </thead>\n",
       "  <tbody>\n",
       "    <tr>\n",
       "      <td>0</td>\n",
       "      <td>RowNumber</td>\n",
       "      <td>0</td>\n",
       "      <td>10000</td>\n",
       "      <td>0.0</td>\n",
       "    </tr>\n",
       "    <tr>\n",
       "      <td>1</td>\n",
       "      <td>CustomerId</td>\n",
       "      <td>0</td>\n",
       "      <td>10000</td>\n",
       "      <td>0.0</td>\n",
       "    </tr>\n",
       "    <tr>\n",
       "      <td>2</td>\n",
       "      <td>Surname</td>\n",
       "      <td>0</td>\n",
       "      <td>10000</td>\n",
       "      <td>0.0</td>\n",
       "    </tr>\n",
       "    <tr>\n",
       "      <td>3</td>\n",
       "      <td>CreditScore</td>\n",
       "      <td>0</td>\n",
       "      <td>10000</td>\n",
       "      <td>0.0</td>\n",
       "    </tr>\n",
       "    <tr>\n",
       "      <td>4</td>\n",
       "      <td>Geography</td>\n",
       "      <td>0</td>\n",
       "      <td>10000</td>\n",
       "      <td>0.0</td>\n",
       "    </tr>\n",
       "    <tr>\n",
       "      <td>5</td>\n",
       "      <td>Gender</td>\n",
       "      <td>0</td>\n",
       "      <td>10000</td>\n",
       "      <td>0.0</td>\n",
       "    </tr>\n",
       "    <tr>\n",
       "      <td>6</td>\n",
       "      <td>Age</td>\n",
       "      <td>0</td>\n",
       "      <td>10000</td>\n",
       "      <td>0.0</td>\n",
       "    </tr>\n",
       "    <tr>\n",
       "      <td>7</td>\n",
       "      <td>Tenure</td>\n",
       "      <td>0</td>\n",
       "      <td>10000</td>\n",
       "      <td>0.0</td>\n",
       "    </tr>\n",
       "    <tr>\n",
       "      <td>8</td>\n",
       "      <td>Balance</td>\n",
       "      <td>0</td>\n",
       "      <td>10000</td>\n",
       "      <td>0.0</td>\n",
       "    </tr>\n",
       "    <tr>\n",
       "      <td>9</td>\n",
       "      <td>NumOfProducts</td>\n",
       "      <td>0</td>\n",
       "      <td>10000</td>\n",
       "      <td>0.0</td>\n",
       "    </tr>\n",
       "    <tr>\n",
       "      <td>10</td>\n",
       "      <td>HasCrCard</td>\n",
       "      <td>0</td>\n",
       "      <td>10000</td>\n",
       "      <td>0.0</td>\n",
       "    </tr>\n",
       "    <tr>\n",
       "      <td>11</td>\n",
       "      <td>IsActiveMember</td>\n",
       "      <td>0</td>\n",
       "      <td>10000</td>\n",
       "      <td>0.0</td>\n",
       "    </tr>\n",
       "    <tr>\n",
       "      <td>12</td>\n",
       "      <td>EstimatedSalary</td>\n",
       "      <td>0</td>\n",
       "      <td>10000</td>\n",
       "      <td>0.0</td>\n",
       "    </tr>\n",
       "    <tr>\n",
       "      <td>13</td>\n",
       "      <td>Exited</td>\n",
       "      <td>0</td>\n",
       "      <td>10000</td>\n",
       "      <td>0.0</td>\n",
       "    </tr>\n",
       "  </tbody>\n",
       "</table>\n",
       "</div>"
      ],
      "text/plain": [
       "        Column Name  Missing Values  Total Rows  Missing Percentage\n",
       "0         RowNumber               0       10000                 0.0\n",
       "1        CustomerId               0       10000                 0.0\n",
       "2           Surname               0       10000                 0.0\n",
       "3       CreditScore               0       10000                 0.0\n",
       "4         Geography               0       10000                 0.0\n",
       "5            Gender               0       10000                 0.0\n",
       "6               Age               0       10000                 0.0\n",
       "7            Tenure               0       10000                 0.0\n",
       "8           Balance               0       10000                 0.0\n",
       "9     NumOfProducts               0       10000                 0.0\n",
       "10        HasCrCard               0       10000                 0.0\n",
       "11   IsActiveMember               0       10000                 0.0\n",
       "12  EstimatedSalary               0       10000                 0.0\n",
       "13           Exited               0       10000                 0.0"
      ]
     },
     "execution_count": 6,
     "metadata": {},
     "output_type": "execute_result"
    }
   ],
   "source": [
    "# No values missing\n",
    "missing_values(dataset)"
   ]
  },
  {
   "cell_type": "code",
   "execution_count": 7,
   "metadata": {},
   "outputs": [],
   "source": [
    "# Seperating independent and dependent variables\n",
    "X = dataset.iloc[:, 3:13].values\n",
    "y = dataset.iloc[:, 13].values"
   ]
  },
  {
   "cell_type": "code",
   "execution_count": 8,
   "metadata": {
    "scrolled": true
   },
   "outputs": [
    {
     "name": "stderr",
     "output_type": "stream",
     "text": [
      "C:\\Users\\dglee\\Anaconda3\\envs\\PythonGPU\\lib\\site-packages\\sklearn\\preprocessing\\_encoders.py:415: FutureWarning: The handling of integer data will change in version 0.22. Currently, the categories are determined based on the range [0, max(values)], while in the future they will be determined based on the unique values.\n",
      "If you want the future behaviour and silence this warning, you can specify \"categories='auto'\".\n",
      "In case you used a LabelEncoder before this OneHotEncoder to convert the categories to integers, then you can now use the OneHotEncoder directly.\n",
      "  warnings.warn(msg, FutureWarning)\n",
      "C:\\Users\\dglee\\Anaconda3\\envs\\PythonGPU\\lib\\site-packages\\sklearn\\preprocessing\\_encoders.py:451: DeprecationWarning: The 'categorical_features' keyword is deprecated in version 0.20 and will be removed in 0.22. You can use the ColumnTransformer instead.\n",
      "  \"use the ColumnTransformer instead.\", DeprecationWarning)\n"
     ]
    }
   ],
   "source": [
    "# Encoding categorical data\n",
    "labelencoder_X1 = LabelEncoder()\n",
    "X[:, 1] = labelencoder_X1.fit_transform(X[:, 1])\n",
    "labelencoder_X2 = LabelEncoder()\n",
    "X[:, 2] = labelencoder_X2.fit_transform(X[:, 2])\n",
    "onehotencoder = OneHotEncoder(categorical_features = [1])\n",
    "X = onehotencoder.fit_transform(X).toarray()\n",
    "X = X[:, 1:]"
   ]
  },
  {
   "cell_type": "code",
   "execution_count": 10,
   "metadata": {},
   "outputs": [],
   "source": [
    "# Splitting the data into train and test set\n",
    "X_train, X_test, y_train, y_test = train_test_split(X, y, test_size = 0.2)"
   ]
  },
  {
   "cell_type": "code",
   "execution_count": 11,
   "metadata": {},
   "outputs": [],
   "source": [
    "# Feature Scaling\n",
    "sc = StandardScaler()\n",
    "X_train = sc.fit_transform(X_train)\n",
    "X_test = sc.transform(X_test)"
   ]
  },
  {
   "cell_type": "code",
   "execution_count": 12,
   "metadata": {},
   "outputs": [
    {
     "name": "stdout",
     "output_type": "stream",
     "text": [
      "WARNING:tensorflow:From C:\\Users\\dglee\\Anaconda3\\envs\\PythonGPU\\lib\\site-packages\\keras\\backend\\tensorflow_backend.py:74: The name tf.get_default_graph is deprecated. Please use tf.compat.v1.get_default_graph instead.\n",
      "\n"
     ]
    }
   ],
   "source": [
    "# Initializing the Artificial Neural Network\n",
    "classifier = Sequential()"
   ]
  },
  {
   "cell_type": "code",
   "execution_count": 13,
   "metadata": {},
   "outputs": [
    {
     "name": "stdout",
     "output_type": "stream",
     "text": [
      "WARNING:tensorflow:From C:\\Users\\dglee\\Anaconda3\\envs\\PythonGPU\\lib\\site-packages\\keras\\backend\\tensorflow_backend.py:517: The name tf.placeholder is deprecated. Please use tf.compat.v1.placeholder instead.\n",
      "\n",
      "WARNING:tensorflow:From C:\\Users\\dglee\\Anaconda3\\envs\\PythonGPU\\lib\\site-packages\\keras\\backend\\tensorflow_backend.py:4138: The name tf.random_uniform is deprecated. Please use tf.random.uniform instead.\n",
      "\n"
     ]
    }
   ],
   "source": [
    "# Adding the input layer and the first hidden layer\n",
    "classifier.add(Dense(units = 6, kernel_initializer = 'uniform', activation = 'relu', input_dim = 11))"
   ]
  },
  {
   "cell_type": "code",
   "execution_count": 14,
   "metadata": {},
   "outputs": [],
   "source": [
    "# Adding the second hidden layer\n",
    "classifier.add(Dense(units = 6, kernel_initializer = 'uniform', activation = 'relu'))"
   ]
  },
  {
   "cell_type": "code",
   "execution_count": 15,
   "metadata": {},
   "outputs": [],
   "source": [
    "# Adding the output layer\n",
    "classifier.add(Dense(units = 1, kernel_initializer = 'uniform', activation = 'sigmoid'))"
   ]
  },
  {
   "cell_type": "code",
   "execution_count": 16,
   "metadata": {},
   "outputs": [
    {
     "name": "stdout",
     "output_type": "stream",
     "text": [
      "WARNING:tensorflow:From C:\\Users\\dglee\\Anaconda3\\envs\\PythonGPU\\lib\\site-packages\\keras\\optimizers.py:790: The name tf.train.Optimizer is deprecated. Please use tf.compat.v1.train.Optimizer instead.\n",
      "\n",
      "WARNING:tensorflow:From C:\\Users\\dglee\\Anaconda3\\envs\\PythonGPU\\lib\\site-packages\\keras\\backend\\tensorflow_backend.py:3376: The name tf.log is deprecated. Please use tf.math.log instead.\n",
      "\n",
      "WARNING:tensorflow:From C:\\Users\\dglee\\Anaconda3\\envs\\PythonGPU\\lib\\site-packages\\tensorflow\\python\\ops\\nn_impl.py:180: add_dispatch_support.<locals>.wrapper (from tensorflow.python.ops.array_ops) is deprecated and will be removed in a future version.\n",
      "Instructions for updating:\n",
      "Use tf.where in 2.0, which has the same broadcast rule as np.where\n"
     ]
    }
   ],
   "source": [
    "# Compiling the ANN\n",
    "from keras.optimizers import SGD\n",
    "opt = SGD(lr = 0.01)\n",
    "classifier.compile(optimizer = opt, loss = 'binary_crossentropy', metrics = ['accuracy'])\n"
   ]
  },
  {
   "cell_type": "code",
   "execution_count": 17,
   "metadata": {},
   "outputs": [
    {
     "name": "stdout",
     "output_type": "stream",
     "text": [
      "WARNING:tensorflow:From C:\\Users\\dglee\\Anaconda3\\envs\\PythonGPU\\lib\\site-packages\\keras\\backend\\tensorflow_backend.py:986: The name tf.assign_add is deprecated. Please use tf.compat.v1.assign_add instead.\n",
      "\n",
      "Epoch 1/100\n",
      "8000/8000 [==============================] - 4s 536us/step - loss: 0.5592 - acc: 0.7946\n",
      "Epoch 2/100\n",
      "8000/8000 [==============================] - 3s 315us/step - loss: 0.5098 - acc: 0.7947\n",
      "Epoch 3/100\n",
      "8000/8000 [==============================] - 3s 313us/step - loss: 0.5077 - acc: 0.7947\n",
      "Epoch 4/100\n",
      "8000/8000 [==============================] - 3s 320us/step - loss: 0.5075 - acc: 0.7947\n",
      "Epoch 5/100\n",
      "8000/8000 [==============================] - 3s 318us/step - loss: 0.5075 - acc: 0.7947\n",
      "Epoch 6/100\n",
      "8000/8000 [==============================] - 3s 323us/step - loss: 0.5074 - acc: 0.7947\n",
      "Epoch 7/100\n",
      "8000/8000 [==============================] - 3s 347us/step - loss: 0.5073 - acc: 0.7947\n",
      "Epoch 8/100\n",
      "8000/8000 [==============================] - 3s 317us/step - loss: 0.5071 - acc: 0.7947\n",
      "Epoch 9/100\n",
      "8000/8000 [==============================] - 2s 303us/step - loss: 0.5067 - acc: 0.7947\n",
      "Epoch 10/100\n",
      "8000/8000 [==============================] - 2s 309us/step - loss: 0.5060 - acc: 0.7947\n",
      "Epoch 11/100\n",
      "8000/8000 [==============================] - ETA: 0s - loss: 0.5044 - acc: 0.795 - 3s 315us/step - loss: 0.5047 - acc: 0.7947\n",
      "Epoch 12/100\n",
      "8000/8000 [==============================] - 2s 311us/step - loss: 0.5022 - acc: 0.7947\n",
      "Epoch 13/100\n",
      "8000/8000 [==============================] - 3s 327us/step - loss: 0.4965 - acc: 0.7947\n",
      "Epoch 14/100\n",
      "8000/8000 [==============================] - 3s 329us/step - loss: 0.4831 - acc: 0.7947\n",
      "Epoch 15/100\n",
      "8000/8000 [==============================] - 3s 374us/step - loss: 0.4565 - acc: 0.7947\n",
      "Epoch 16/100\n",
      "8000/8000 [==============================] - 3s 372us/step - loss: 0.4342 - acc: 0.7986\n",
      "Epoch 17/100\n",
      "8000/8000 [==============================] - 3s 373us/step - loss: 0.4286 - acc: 0.8075\n",
      "Epoch 18/100\n",
      "8000/8000 [==============================] - 3s 376us/step - loss: 0.4269 - acc: 0.8089\n",
      "Epoch 19/100\n",
      "8000/8000 [==============================] - 3s 397us/step - loss: 0.4251 - acc: 0.8092\n",
      "Epoch 20/100\n",
      "8000/8000 [==============================] - 3s 383us/step - loss: 0.4230 - acc: 0.8149\n",
      "Epoch 21/100\n",
      "8000/8000 [==============================] - 3s 363us/step - loss: 0.4196 - acc: 0.8179\n",
      "Epoch 22/100\n",
      "8000/8000 [==============================] - 3s 383us/step - loss: 0.4154 - acc: 0.8224\n",
      "Epoch 23/100\n",
      "8000/8000 [==============================] - 3s 358us/step - loss: 0.4093 - acc: 0.8267\n",
      "Epoch 24/100\n",
      "8000/8000 [==============================] - 3s 365us/step - loss: 0.4009 - acc: 0.8332\n",
      "Epoch 25/100\n",
      "8000/8000 [==============================] - 3s 364us/step - loss: 0.3896 - acc: 0.8367\n",
      "Epoch 26/100\n",
      "8000/8000 [==============================] - 3s 367us/step - loss: 0.3783 - acc: 0.8436\n",
      "Epoch 27/100\n",
      "8000/8000 [==============================] - 3s 369us/step - loss: 0.3685 - acc: 0.8479\n",
      "Epoch 28/100\n",
      "8000/8000 [==============================] - 3s 327us/step - loss: 0.3614 - acc: 0.8504\n",
      "Epoch 29/100\n",
      "8000/8000 [==============================] - 3s 347us/step - loss: 0.3564 - acc: 0.8564\n",
      "Epoch 30/100\n",
      "8000/8000 [==============================] - 3s 361us/step - loss: 0.3540 - acc: 0.8545\n",
      "Epoch 31/100\n",
      "8000/8000 [==============================] - 3s 351us/step - loss: 0.3523 - acc: 0.8575\n",
      "Epoch 32/100\n",
      "8000/8000 [==============================] - 3s 329us/step - loss: 0.3504 - acc: 0.8570\n",
      "Epoch 33/100\n",
      "8000/8000 [==============================] - 3s 316us/step - loss: 0.3494 - acc: 0.8571\n",
      "Epoch 34/100\n",
      "8000/8000 [==============================] - 2s 308us/step - loss: 0.3477 - acc: 0.8585\n",
      "Epoch 35/100\n",
      "8000/8000 [==============================] - 2s 297us/step - loss: 0.3478 - acc: 0.8584\n",
      "Epoch 36/100\n",
      "8000/8000 [==============================] - 2s 284us/step - loss: 0.3480 - acc: 0.8592\n",
      "Epoch 37/100\n",
      "8000/8000 [==============================] - 2s 305us/step - loss: 0.3464 - acc: 0.8591\n",
      "Epoch 38/100\n",
      "8000/8000 [==============================] - 2s 281us/step - loss: 0.3465 - acc: 0.8576\n",
      "Epoch 39/100\n",
      "8000/8000 [==============================] - 2s 296us/step - loss: 0.3449 - acc: 0.8571\n",
      "Epoch 40/100\n",
      "8000/8000 [==============================] - 2s 307us/step - loss: 0.3451 - acc: 0.8584\n",
      "Epoch 41/100\n",
      "8000/8000 [==============================] - 2s 289us/step - loss: 0.3441 - acc: 0.8582\n",
      "Epoch 42/100\n",
      "8000/8000 [==============================] - 2s 281us/step - loss: 0.3440 - acc: 0.8574\n",
      "Epoch 43/100\n",
      "8000/8000 [==============================] - 2s 282us/step - loss: 0.3442 - acc: 0.8572\n",
      "Epoch 44/100\n",
      "8000/8000 [==============================] - 3s 321us/step - loss: 0.3442 - acc: 0.8594\n",
      "Epoch 45/100\n",
      "8000/8000 [==============================] - 3s 341us/step - loss: 0.3440 - acc: 0.8590\n",
      "Epoch 46/100\n",
      "8000/8000 [==============================] - 3s 370us/step - loss: 0.3441 - acc: 0.8596\n",
      "Epoch 47/100\n",
      "8000/8000 [==============================] - 3s 330us/step - loss: 0.3439 - acc: 0.8576\n",
      "Epoch 48/100\n",
      "8000/8000 [==============================] - 3s 356us/step - loss: 0.3445 - acc: 0.8592\n",
      "Epoch 49/100\n",
      "8000/8000 [==============================] - 3s 320us/step - loss: 0.3428 - acc: 0.8601\n",
      "Epoch 50/100\n",
      "8000/8000 [==============================] - 3s 330us/step - loss: 0.3430 - acc: 0.8597\n",
      "Epoch 51/100\n",
      "8000/8000 [==============================] - 2s 292us/step - loss: 0.3431 - acc: 0.8601\n",
      "Epoch 52/100\n",
      "8000/8000 [==============================] - 2s 293us/step - loss: 0.3419 - acc: 0.8600\n",
      "Epoch 53/100\n",
      "8000/8000 [==============================] - 3s 317us/step - loss: 0.3427 - acc: 0.8599\n",
      "Epoch 54/100\n",
      "8000/8000 [==============================] - 2s 292us/step - loss: 0.3427 - acc: 0.8594\n",
      "Epoch 55/100\n",
      "8000/8000 [==============================] - 2s 284us/step - loss: 0.3434 - acc: 0.8580\n",
      "Epoch 56/100\n",
      "8000/8000 [==============================] - 2s 303us/step - loss: 0.3436 - acc: 0.8602\n",
      "Epoch 57/100\n",
      "8000/8000 [==============================] - 2s 302us/step - loss: 0.3425 - acc: 0.8579\n",
      "Epoch 58/100\n",
      "8000/8000 [==============================] - 2s 299us/step - loss: 0.3423 - acc: 0.8601\n",
      "Epoch 59/100\n",
      "8000/8000 [==============================] - 2s 311us/step - loss: 0.3438 - acc: 0.8581\n",
      "Epoch 60/100\n",
      "8000/8000 [==============================] - 2s 290us/step - loss: 0.3433 - acc: 0.8581\n",
      "Epoch 61/100\n",
      "8000/8000 [==============================] - 2s 283us/step - loss: 0.3431 - acc: 0.8592\n",
      "Epoch 62/100\n",
      "8000/8000 [==============================] - 2s 281us/step - loss: 0.3420 - acc: 0.8609\n",
      "Epoch 63/100\n",
      "8000/8000 [==============================] - 2s 280us/step - loss: 0.3429 - acc: 0.8587\n",
      "Epoch 64/100\n",
      "8000/8000 [==============================] - 2s 280us/step - loss: 0.3423 - acc: 0.8590\n",
      "Epoch 65/100\n",
      "8000/8000 [==============================] - 2s 281us/step - loss: 0.3425 - acc: 0.8595\n",
      "Epoch 66/100\n",
      "8000/8000 [==============================] - 2s 289us/step - loss: 0.3429 - acc: 0.8606\n",
      "Epoch 67/100\n",
      "8000/8000 [==============================] - 2s 280us/step - loss: 0.3426 - acc: 0.8584\n",
      "Epoch 68/100\n",
      "8000/8000 [==============================] - 2s 281us/step - loss: 0.3421 - acc: 0.8591\n",
      "Epoch 69/100\n",
      "8000/8000 [==============================] - 2s 280us/step - loss: 0.3414 - acc: 0.8597\n",
      "Epoch 70/100\n",
      "8000/8000 [==============================] - 2s 291us/step - loss: 0.3416 - acc: 0.8585\n",
      "Epoch 71/100\n",
      "8000/8000 [==============================] - 3s 331us/step - loss: 0.3425 - acc: 0.8587\n",
      "Epoch 72/100\n",
      "8000/8000 [==============================] - 3s 333us/step - loss: 0.3420 - acc: 0.8611\n",
      "Epoch 73/100\n",
      "8000/8000 [==============================] - 3s 408us/step - loss: 0.3417 - acc: 0.8611\n",
      "Epoch 74/100\n",
      "8000/8000 [==============================] - 3s 393us/step - loss: 0.3416 - acc: 0.8606\n",
      "Epoch 75/100\n",
      "8000/8000 [==============================] - 3s 355us/step - loss: 0.3423 - acc: 0.8574\n",
      "Epoch 76/100\n",
      "8000/8000 [==============================] - 3s 381us/step - loss: 0.3415 - acc: 0.8592\n",
      "Epoch 77/100\n",
      "8000/8000 [==============================] - 3s 367us/step - loss: 0.3420 - acc: 0.8571\n",
      "Epoch 78/100\n",
      "8000/8000 [==============================] - 3s 336us/step - loss: 0.3417 - acc: 0.8591\n",
      "Epoch 79/100\n",
      "8000/8000 [==============================] - 3s 321us/step - loss: 0.3415 - acc: 0.8586\n",
      "Epoch 80/100\n",
      "8000/8000 [==============================] - 3s 325us/step - loss: 0.3415 - acc: 0.8616\n",
      "Epoch 81/100\n",
      "8000/8000 [==============================] - 3s 317us/step - loss: 0.3416 - acc: 0.8589\n",
      "Epoch 82/100\n",
      "8000/8000 [==============================] - 3s 324us/step - loss: 0.3412 - acc: 0.8587\n",
      "Epoch 83/100\n",
      "8000/8000 [==============================] - 3s 320us/step - loss: 0.3419 - acc: 0.8589\n",
      "Epoch 84/100\n",
      "8000/8000 [==============================] - 3s 355us/step - loss: 0.3408 - acc: 0.8579\n",
      "Epoch 85/100\n",
      "8000/8000 [==============================] - 3s 321us/step - loss: 0.3415 - acc: 0.8577\n",
      "Epoch 86/100\n",
      "8000/8000 [==============================] - 3s 325us/step - loss: 0.3401 - acc: 0.8615\n",
      "Epoch 87/100\n",
      "8000/8000 [==============================] - 3s 317us/step - loss: 0.3419 - acc: 0.8586\n",
      "Epoch 88/100\n",
      "8000/8000 [==============================] - 3s 324us/step - loss: 0.3419 - acc: 0.8595\n",
      "Epoch 89/100\n",
      "8000/8000 [==============================] - 3s 321us/step - loss: 0.3411 - acc: 0.8610\n",
      "Epoch 90/100\n",
      "8000/8000 [==============================] - 3s 331us/step - loss: 0.3413 - acc: 0.8584\n",
      "Epoch 91/100\n",
      "8000/8000 [==============================] - 3s 326us/step - loss: 0.3416 - acc: 0.8601\n",
      "Epoch 92/100\n",
      "8000/8000 [==============================] - 3s 318us/step - loss: 0.3414 - acc: 0.8616\n",
      "Epoch 93/100\n",
      "8000/8000 [==============================] - 3s 328us/step - loss: 0.3406 - acc: 0.8581\n",
      "Epoch 94/100\n",
      "8000/8000 [==============================] - 3s 321us/step - loss: 0.3409 - acc: 0.8600\n",
      "Epoch 95/100\n",
      "8000/8000 [==============================] - 3s 323us/step - loss: 0.3412 - acc: 0.8629\n",
      "Epoch 96/100\n",
      "8000/8000 [==============================] - 3s 341us/step - loss: 0.3420 - acc: 0.8590\n",
      "Epoch 97/100\n",
      "8000/8000 [==============================] - 3s 357us/step - loss: 0.3414 - acc: 0.8594\n",
      "Epoch 98/100\n",
      "8000/8000 [==============================] - 3s 333us/step - loss: 0.3407 - acc: 0.8596\n",
      "Epoch 99/100\n",
      "8000/8000 [==============================] - 3s 327us/step - loss: 0.3410 - acc: 0.8595\n",
      "Epoch 100/100\n",
      "8000/8000 [==============================] - 3s 325us/step - loss: 0.3417 - acc: 0.8580\n"
     ]
    },
    {
     "data": {
      "text/plain": [
       "<keras.callbacks.History at 0x18e4fb6ca08>"
      ]
     },
     "execution_count": 17,
     "metadata": {},
     "output_type": "execute_result"
    }
   ],
   "source": [
    "# Fitting the ANN to the training set\n",
    "classifier.fit(X_train, y_train, batch_size = 10, epochs = 100)"
   ]
  },
  {
   "cell_type": "code",
   "execution_count": 18,
   "metadata": {},
   "outputs": [],
   "source": [
    "# Predicting the test set\n",
    "y_pred = classifier.predict(X_test)"
   ]
  },
  {
   "cell_type": "code",
   "execution_count": 19,
   "metadata": {},
   "outputs": [],
   "source": [
    "# Setting threshold for probability of customers leaving or not\n",
    "y_pred = (y_pred > 0.5)"
   ]
  },
  {
   "cell_type": "code",
   "execution_count": 21,
   "metadata": {},
   "outputs": [
    {
     "data": {
      "text/plain": [
       "0.87"
      ]
     },
     "execution_count": 21,
     "metadata": {},
     "output_type": "execute_result"
    }
   ],
   "source": [
    "from sklearn.metrics import accuracy_score\n",
    "score = accuracy_score(y_test, y_pred)\n",
    "score"
   ]
  }
 ],
 "metadata": {
  "kernelspec": {
   "display_name": "Python 3",
   "language": "python",
   "name": "python3"
  },
  "language_info": {
   "codemirror_mode": {
    "name": "ipython",
    "version": 3
   },
   "file_extension": ".py",
   "mimetype": "text/x-python",
   "name": "python",
   "nbconvert_exporter": "python",
   "pygments_lexer": "ipython3",
   "version": "3.7.4"
  }
 },
 "nbformat": 4,
 "nbformat_minor": 2
}
